{
 "cells": [
  {
   "cell_type": "code",
   "execution_count": null,
   "id": "d83ab381",
   "metadata": {},
   "outputs": [],
   "source": [
    "%matplotlib inline\n",
    "import cv2\n",
    "import matplotlib.pyplot as plt\n",
    "from matplotlib.colors import ListedColormap\n",
    "import numpy as np\n",
    "from numpy.lib.stride_tricks import as_strided\n",
    "import PIL\n",
    "from pandas import DataFrame\n",
    "import pandas as pd\n",
    "from IPython.display import display, HTML\n",
    "from skimage.exposure import rescale_intensity\n",
    "import json\n",
    "import os\n",
    "from itertools import product\n",
    "import itertools\n",
    "import random\n",
    "from os import listdir\n",
    "\n",
    "from utils import *\n",
    "\n",
    "pd.options.display.html.border = 0\n",
    "pd.options.display.float_format = '{:,.2f}'.format"
   ]
  },
  {
   "cell_type": "code",
   "execution_count": null,
   "id": "95e81286",
   "metadata": {},
   "outputs": [],
   "source": [
    "data_path = \"./data/\"\n",
    "cars = [cv2.imread(data_path+img, 1) for img in listdir(data_path)]\n",
    "imshow(cars[0])"
   ]
  },
  {
   "cell_type": "code",
   "execution_count": null,
   "id": "ded6479d",
   "metadata": {},
   "outputs": [],
   "source": [
    "def median_filter(imgs):\n",
    "    cars_stacked = np.stack(cars,axis=2)\n",
    "    cars_gray = [cv2.cvtColor(car, cv2.COLOR_BGR2GRAY) for car in imgs]\n",
    "    cars_gray_stacked = np.stack(cars_gray,axis=2)\n",
    "    cars_median_arg = np.argsort(cars_gray_stacked,axis=2)[:,:,1]\n",
    "\n",
    "    m, n, _ = cars[0].shape\n",
    "    i, j = np.indices((m, n))\n",
    "    cars_color = cars_stacked[i, j, cars_median_arg[i, j]]\n",
    "    \n",
    "    return cars_color\n",
    "        "
   ]
  },
  {
   "cell_type": "code",
   "execution_count": null,
   "id": "f1214a39",
   "metadata": {},
   "outputs": [],
   "source": [
    "imshow(median_filter(cars))"
   ]
  },
  {
   "cell_type": "markdown",
   "id": "e122f067",
   "metadata": {},
   "source": [
    "The result of the median filter is very good, however there's some car artifacts on the right where, there are cars in 2 pictures."
   ]
  }
 ],
 "metadata": {
  "kernelspec": {
   "display_name": "Python 3 (ipykernel)",
   "language": "python",
   "name": "python3"
  },
  "language_info": {
   "codemirror_mode": {
    "name": "ipython",
    "version": 3
   },
   "file_extension": ".py",
   "mimetype": "text/x-python",
   "name": "python",
   "nbconvert_exporter": "python",
   "pygments_lexer": "ipython3",
   "version": "3.10.12"
  }
 },
 "nbformat": 4,
 "nbformat_minor": 5
}
