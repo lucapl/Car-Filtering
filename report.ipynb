{
 "cells": [
  {
   "cell_type": "code",
   "execution_count": null,
   "id": "d83ab381",
   "metadata": {},
   "outputs": [],
   "source": [
    "%matplotlib inline\n",
    "\n",
    "import cv2\n",
    "import numpy as np\n",
    "import pandas as pd\n",
    "from os import listdir\n",
    "\n",
    "from utils import imshow\n",
    "\n",
    "pd.options.display.html.border = 0\n",
    "pd.options.display.float_format = '{:,.2f}'.format"
   ]
  },
  {
   "cell_type": "code",
   "execution_count": null,
   "id": "95e81286",
   "metadata": {},
   "outputs": [],
   "source": [
    "data_path = \"./data/\"\n",
    "cars = [cv2.imread(data_path+img, 1) for img in listdir(data_path)]\n",
    "imshow(cars[0])"
   ]
  },
  {
   "cell_type": "code",
   "execution_count": null,
   "id": "ded6479d",
   "metadata": {},
   "outputs": [],
   "source": [
    "def median_filter(imgs: list[np.ndarray]) -> np.ndarray:\n",
    "    imgs_stacked = np.stack(imgs, axis=2)\n",
    "    imgs_gray = [cv2.cvtColor(car, cv2.COLOR_BGR2GRAY) for car in imgs]\n",
    "    imgs_gray_stacked = np.stack(imgs_gray,axis=2)\n",
    "    imgs_median_arg = np.argsort(imgs_gray_stacked,axis=2)[:,:,1]\n",
    "\n",
    "    m, n, _ = imgs[0].shape\n",
    "    i, j = np.indices((m, n))\n",
    "    imgs_color = imgs_stacked[i, j, imgs_median_arg[i, j]]\n",
    "    \n",
    "    return imgs_color\n",
    "        "
   ]
  },
  {
   "cell_type": "code",
   "execution_count": null,
   "id": "f1214a39",
   "metadata": {},
   "outputs": [],
   "source": [
    "img_median = median_filter(cars)\n",
    "\n",
    "imshow(img_median)"
   ]
  },
  {
   "cell_type": "markdown",
   "id": "e122f067",
   "metadata": {},
   "source": [
    "The result of the median filter is very good, however there's some car artifacts on the right where, there are cars in 2 pictures."
   ]
  },
  {
   "cell_type": "code",
   "execution_count": null,
   "outputs": [],
   "source": [
    "def subtract_imgs(img_1: np.ndarray, img_2: np.ndarray) -> np.ndarray:\n",
    "    img_1_gray = cv2.cvtColor(img_1, cv2.COLOR_BGR2GRAY)\n",
    "    img_2_gray = cv2.cvtColor(img_2, cv2.COLOR_BGR2GRAY)\n",
    "    img_diff = cv2.absdiff(img_1_gray, img_2_gray)\n",
    "    return img_diff"
   ],
   "metadata": {
    "collapsed": false
   },
   "id": "9a8ef720d7678f88"
  },
  {
   "cell_type": "code",
   "execution_count": null,
   "outputs": [],
   "source": [
    "img_sub = subtract_imgs(cars[0], cars[1])\n",
    "imshow(img_sub)"
   ],
   "metadata": {
    "collapsed": false
   },
   "id": "8089e5319ef1c56b"
  },
  {
   "cell_type": "code",
   "execution_count": null,
   "outputs": [],
   "source": [
    "img_thresh = cv2.threshold(img_sub, 35, 255, cv2.THRESH_BINARY)[1]\n",
    "imshow(img_thresh)"
   ],
   "metadata": {
    "collapsed": false
   },
   "id": "3b602abc3fdf4012"
  },
  {
   "cell_type": "code",
   "execution_count": null,
   "outputs": [],
   "source": [
    "img_space_closed = cv2.morphologyEx(img_thresh, cv2.MORPH_CLOSE, np.ones((5,5),np.uint8))\n",
    "imshow(img_space_closed)"
   ],
   "metadata": {
    "collapsed": false
   },
   "id": "1784e4d1a08dae3"
  },
  {
   "cell_type": "code",
   "execution_count": null,
   "outputs": [],
   "source": [
    "img_masked = cv2.bitwise_and(cars[2], cars[2], mask=img_space_closed)\n",
    "imshow(img_masked)"
   ],
   "metadata": {
    "collapsed": false
   },
   "id": "b9977fd834642388"
  },
  {
   "cell_type": "code",
   "execution_count": null,
   "outputs": [],
   "source": [
    "img_thresh_stacked = np.stack([img_space_closed]*3, axis=2)\n",
    "img_median_masked = np.where(img_thresh_stacked == 255, img_masked, img_median)\n",
    "imshow(img_median_masked)"
   ],
   "metadata": {
    "collapsed": false
   },
   "id": "a347690f7cdb8564"
  },
  {
   "cell_type": "code",
   "execution_count": null,
   "outputs": [],
   "source": [],
   "metadata": {
    "collapsed": false
   },
   "id": "4a0f245da0b8e819"
  }
 ],
 "metadata": {
  "kernelspec": {
   "display_name": "Python 3 (ipykernel)",
   "language": "python",
   "name": "python3"
  },
  "language_info": {
   "codemirror_mode": {
    "name": "ipython",
    "version": 3
   },
   "file_extension": ".py",
   "mimetype": "text/x-python",
   "name": "python",
   "nbconvert_exporter": "python",
   "pygments_lexer": "ipython3",
   "version": "3.10.12"
  }
 },
 "nbformat": 4,
 "nbformat_minor": 5
}
